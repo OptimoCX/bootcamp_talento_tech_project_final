{
 "cells": [
  {
   "cell_type": "code",
   "execution_count": 1,
   "id": "d5ce06fa",
   "metadata": {},
   "outputs": [],
   "source": [
    "%load_ext autoreload\n",
    "%autoreload 2"
   ]
  },
  {
   "cell_type": "code",
   "execution_count": 6,
   "id": "5293c72d",
   "metadata": {},
   "outputs": [],
   "source": [
    "from src.classifier import HybridClassifierMaxProb"
   ]
  },
  {
   "cell_type": "code",
   "execution_count": 8,
   "id": "3720cdc8",
   "metadata": {},
   "outputs": [],
   "source": [
    "model = HybridClassifierMaxProb(\n",
    "    ocr_model_path='/Users/jmarulanda/clara/models/clasificador_texto.pkl',\n",
    "    embed_model_path='/Users/jmarulanda/clara/models/modelo_embeddings',\n",
    "    resnet_model_path='/Users/jmarulanda/clara/models/resnet_model.h5'\n",
    ")"
   ]
  },
  {
   "cell_type": "code",
   "execution_count": 13,
   "id": "8d540017",
   "metadata": {},
   "outputs": [
    {
     "name": "stderr",
     "output_type": "stream",
     "text": [
      "huggingface/tokenizers: The current process just got forked, after parallelism has already been used. Disabling parallelism to avoid deadlocks...\n",
      "To disable this warning, you can either:\n",
      "\t- Avoid using `tokenizers` before the fork if possible\n",
      "\t- Explicitly set the environment variable TOKENIZERS_PARALLELISM=(true | false)\n"
     ]
    },
    {
     "name": "stdout",
     "output_type": "stream",
     "text": [
      "\u001b[1m1/1\u001b[0m \u001b[32m━━━━━━━━━━━━━━━━━━━━\u001b[0m\u001b[37m\u001b[0m \u001b[1m0s\u001b[0m 71ms/step\n",
      "Tecnomecanica (confianza 0.79)\n",
      "\u001b[1m1/1\u001b[0m \u001b[32m━━━━━━━━━━━━━━━━━━━━\u001b[0m\u001b[37m\u001b[0m \u001b[1m0s\u001b[0m 71ms/step\n",
      "Tecnomecanica (confianza 0.79)\n"
     ]
    },
    {
     "data": {
      "text/plain": [
       "('Tecnomecanica', np.float64(0.7916153419660957))"
      ]
     },
     "execution_count": 13,
     "metadata": {},
     "output_type": "execute_result"
    }
   ],
   "source": [
    "model.predict('/Users/jmarulanda/clara/20250908_183029.jpg')"
   ]
  }
 ],
 "metadata": {
  "kernelspec": {
   "display_name": ".venv",
   "language": "python",
   "name": "python3"
  },
  "language_info": {
   "codemirror_mode": {
    "name": "ipython",
    "version": 3
   },
   "file_extension": ".py",
   "mimetype": "text/x-python",
   "name": "python",
   "nbconvert_exporter": "python",
   "pygments_lexer": "ipython3",
   "version": "3.11.11"
  }
 },
 "nbformat": 4,
 "nbformat_minor": 5
}
